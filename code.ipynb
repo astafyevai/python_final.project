{
 "cells": [
  {
   "cell_type": "markdown",
   "metadata": {},
   "source": [
    "# IPython & Jupyter: a PyCon 2017 tutorial"
   ]
  },
  {
   "cell_type": "code",
   "execution_count": 53,
   "metadata": {},
   "outputs": [
    {
     "name": "stdout",
     "output_type": "stream",
     "text": [
      "Requirement already satisfied: pymystem3 in /srv/conda/envs/notebook/lib/python3.6/site-packages (0.2.0)\r\n",
      "Requirement already satisfied: requests in /srv/conda/envs/notebook/lib/python3.6/site-packages (from pymystem3) (2.24.0)\r\n",
      "Requirement already satisfied: certifi>=2017.4.17 in /srv/conda/envs/notebook/lib/python3.6/site-packages (from requests->pymystem3) (2020.6.20)\r\n",
      "Requirement already satisfied: urllib3!=1.25.0,!=1.25.1,<1.26,>=1.21.1 in /srv/conda/envs/notebook/lib/python3.6/site-packages (from requests->pymystem3) (1.25.10)\r\n",
      "Requirement already satisfied: chardet<4,>=3.0.2 in /srv/conda/envs/notebook/lib/python3.6/site-packages (from requests->pymystem3) (3.0.4)\r\n",
      "Requirement already satisfied: idna<3,>=2.5 in /srv/conda/envs/notebook/lib/python3.6/site-packages (from requests->pymystem3) (2.10)\r\n"
     ]
    }
   ],
   "source": [
    "#! pip install pymystem3\n",
    "\n",
    "from pymystem3 import Mystem\n",
    "import pandas as pd"
   ]
  },
  {
   "cell_type": "code",
   "execution_count": 54,
   "metadata": {},
   "outputs": [],
   "source": [
    "url = 'https://raw.githubusercontent.com/astafyevai/python_final.project/main/masterimargarita.txt'"
   ]
  },
  {
   "cell_type": "code",
   "execution_count": 55,
   "metadata": {},
   "outputs": [],
   "source": [
    "import requests\n",
    "\n",
    "response = requests.get(url)\n",
    "text = response.text"
   ]
  },
  {
   "cell_type": "code",
   "execution_count": 56,
   "metadata": {},
   "outputs": [
    {
     "data": {
      "text/plain": [
       "'Мастер и Маргарита\\nМихаил Афанасиевич Булгаков\\n\\nРусская классика\\n\\n  \\xa0 Прекрасно оформленное подарочное издание в шелковом переплете с трехсторонним окрашенным обрезом. Обложка книги украшена аппликацией. В книге представлено бессмертное творение русской литературы XX века. Легендарная фантасмагория \"Мастер и Маргарита\"... Произведения Михаила Булгакова - многоплановые, неоднозначные, раскрывающие разные грани его яркого таланта! Глубоко философский роман М.Булгакова иллюстрациями П.Оринянского не исчерпан, но и не умален. Иллюстрации обогатили книгу прекрасными портретами-образами, сделали интересней и для чтения, и для зрительского восприятия и, пожалуй, самое главное, - открыли новое духовное пространство. Художник вслед за Булгаковым ищет путь не к логике, а к интуиции читателя, что-то нашептывает ему, подсказывает, намекает, помогает ему ощутить сладость самостоятельных читательских открытий. Силовые линии иллюстраций П.Оринянского обращены не внутрь листа, а рвутся наружу, на волю'"
      ]
     },
     "execution_count": 56,
     "metadata": {},
     "output_type": "execute_result"
    }
   ],
   "source": [
    "data[:1000]"
   ]
  },
  {
   "cell_type": "code",
   "execution_count": 58,
   "metadata": {},
   "outputs": [],
   "source": [
    "m = Mystem()"
   ]
  },
  {
   "cell_type": "code",
   "execution_count": 59,
   "metadata": {},
   "outputs": [
    {
     "data": {
      "text/plain": [
       "['булгаков',\n",
       " '\\n',\n",
       " '\\n',\n",
       " 'русский',\n",
       " ' ',\n",
       " 'классика',\n",
       " '\\n',\n",
       " '\\n',\n",
       " '  \\xa0 ',\n",
       " 'прекрасно']"
      ]
     },
     "execution_count": 59,
     "metadata": {},
     "output_type": "execute_result"
    }
   ],
   "source": [
    "lemmas = m.lemmatize(text)\n",
    "lemmas[10:20]"
   ]
  },
  {
   "cell_type": "code",
   "execution_count": 60,
   "metadata": {},
   "outputs": [],
   "source": [
    "p = ([x for x in lemmas if x.isalpha()])"
   ]
  },
  {
   "cell_type": "code",
   "execution_count": 61,
   "metadata": {},
   "outputs": [
    {
     "data": {
      "text/plain": [
       "112106"
      ]
     },
     "execution_count": 61,
     "metadata": {},
     "output_type": "execute_result"
    }
   ],
   "source": [
    "len(p)"
   ]
  },
  {
   "cell_type": "code",
   "execution_count": 62,
   "metadata": {},
   "outputs": [
    {
     "data": {
      "text/plain": [
       "10418"
      ]
     },
     "execution_count": 62,
     "metadata": {},
     "output_type": "execute_result"
    }
   ],
   "source": [
    "pd.Series(p).nunique()"
   ]
  },
  {
   "cell_type": "code",
   "execution_count": 63,
   "metadata": {
    "scrolled": true
   },
   "outputs": [
    {
     "data": {
      "text/plain": [
       "и              5025\n",
       "в              3651\n",
       "он             2167\n",
       "не             2031\n",
       "на             2005\n",
       "что            1876\n",
       "я              1391\n",
       "быть           1388\n",
       "с              1306\n",
       "а               977\n",
       "она             886\n",
       "как             841\n",
       "это             800\n",
       "то              784\n",
       "вы              761\n",
       "этот            760\n",
       "но              714\n",
       "к               701\n",
       "маргарита       624\n",
       "же              595\n",
       "у               528\n",
       "из              528\n",
       "по              478\n",
       "сказать         470\n",
       "за              469\n",
       "ты              426\n",
       "тот             423\n",
       "так             411\n",
       "свой            411\n",
       "от              382\n",
       "один            374\n",
       "рука            368\n",
       "все             366\n",
       "они             361\n",
       "который         355\n",
       "весь            355\n",
       "иван            354\n",
       "человек         349\n",
       "глаз            346\n",
       "отвечать        341\n",
       "о               327\n",
       "тут             306\n",
       "да              306\n",
       "себя            302\n",
       "бы              300\n",
       "его             298\n",
       "становиться     285\n",
       "только          281\n",
       "уже             278\n",
       "нет             274\n",
       "dtype: int64"
      ]
     },
     "execution_count": 63,
     "metadata": {},
     "output_type": "execute_result"
    }
   ],
   "source": [
    "pd.Series(p).value_counts().head(50)"
   ]
  },
  {
   "cell_type": "code",
   "execution_count": 72,
   "metadata": {},
   "outputs": [],
   "source": [
    "ana = m.analyze(','.join(list(set(p))))\n"
   ]
  },
  {
   "cell_type": "code",
   "execution_count": 87,
   "metadata": {},
   "outputs": [
    {
     "name": "stdout",
     "output_type": "stream",
     "text": [
      "14255\n"
     ]
    }
   ],
   "source": [
    "#i = 0\n",
    "#for w in ana:\n",
    "#    i += 1\n",
    "#    if w['text'] == 'воланд':\n",
    "#        print(i)"
   ]
  },
  {
   "cell_type": "code",
   "execution_count": 88,
   "metadata": {},
   "outputs": [
    {
     "data": {
      "text/plain": [
       "{'analysis': [{'lex': 'воланд',\n",
       "   'wt': 0.7324094467,\n",
       "   'gr': 'S,фам,муж,од=им,ед'}],\n",
       " 'text': 'воланд'}"
      ]
     },
     "execution_count": 88,
     "metadata": {},
     "output_type": "execute_result"
    }
   ],
   "source": [
    "# ana[14254]"
   ]
  },
  {
   "cell_type": "code",
   "execution_count": 81,
   "metadata": {},
   "outputs": [],
   "source": [
    "words_include = []\n",
    "for word in ana:\n",
    "    if ('analysis' in word) and word['analysis']:\n",
    "        gr = word['analysis'][0]['gr']\n",
    "        pos = gr.split('=')[0].split(',')[0]\n",
    "        if pos == 'S' and 'имя' not in gr and 'фам' not in gr and 'отч' not in gr and 'сокр' not in gr:\n",
    "            words_include.append(word['text'])"
   ]
  },
  {
   "cell_type": "code",
   "execution_count": 76,
   "metadata": {},
   "outputs": [],
   "source": [
    "#p_new = set(p) - set(words_exclude)"
   ]
  },
  {
   "cell_type": "code",
   "execution_count": 82,
   "metadata": {},
   "outputs": [],
   "source": [
    "p_new = [x for x in p if x in words_include]"
   ]
  },
  {
   "cell_type": "code",
   "execution_count": 83,
   "metadata": {},
   "outputs": [
    {
     "data": {
      "text/plain": [
       "рука          368\n",
       "человек       349\n",
       "глаз          346\n",
       "прокуратор    267\n",
       "мочь          249\n",
       "голова        246\n",
       "кот           233\n",
       "лицо          230\n",
       "время         214\n",
       "голос         184\n",
       "дело          167\n",
       "мастер        167\n",
       "слово         159\n",
       "гость         155\n",
       "квартира      152\n",
       "dtype: int64"
      ]
     },
     "execution_count": 83,
     "metadata": {},
     "output_type": "execute_result"
    }
   ],
   "source": [
    "pd.Series(p_new).value_counts().head(15)"
   ]
  },
  {
   "cell_type": "code",
   "execution_count": 84,
   "metadata": {},
   "outputs": [],
   "source": [
    "names_include = []\n",
    "for word in ana:\n",
    "    if ('analysis' in word) and word['analysis']:\n",
    "        gr = word['analysis'][0]['gr']\n",
    "        pos = gr.split('=')[0].split(',')[0]\n",
    "        if pos == 'S' and ('имя' in gr or 'фам' in gr):\n",
    "            names_include.append(word['text'])"
   ]
  },
  {
   "cell_type": "code",
   "execution_count": 85,
   "metadata": {},
   "outputs": [],
   "source": [
    "names = [x for x in p if x in names_include]"
   ]
  },
  {
   "cell_type": "code",
   "execution_count": 86,
   "metadata": {},
   "outputs": [
    {
     "data": {
      "text/plain": [
       "маргарита    624\n",
       "иван         354\n",
       "воланд       266\n",
       "коровьев     227\n",
       "пилат        196\n",
       "азазелло     152\n",
       "берлиоз      147\n",
       "никанор      134\n",
       "варенуха     103\n",
       "степа        101\n",
       "левий         75\n",
       "иешуа         58\n",
       "наташа        53\n",
       "аннушка       52\n",
       "бездомный     46\n",
       "dtype: int64"
      ]
     },
     "execution_count": 86,
     "metadata": {},
     "output_type": "execute_result"
    }
   ],
   "source": [
    "pd.Series(names).value_counts().head(15)"
   ]
  },
  {
   "cell_type": "markdown",
   "metadata": {},
   "source": [
    "Class outline:\n",
    "\n",
    "* A quick installation check of [ipython](https://ipython.org/install.html) and [jupyter notebook](https://jupyter.readthedocs.io/en/latest/install.html)\n",
    "* An overview of the IPython project from [the official website](http://ipython.org), and [jupyter](https://jupyter.org)\n",
    "* Super basic intro to the notebook: typing code.\n",
    "* [Notebook Basics](examples/Notebook/Notebook%20Basics.ipynb)\n",
    "* [IPython - beyond plain python](examples/IPython%20Kernel/Beyond%20Plain%20Python.ipynb)\n",
    "* [Markdown Cells](examples/Notebook/Working%20With%20Markdown%20Cells.ipynb)\n",
    "* [Rich Display System](examples/IPython%20Kernel/Rich%20Output.ipynb)\n",
    "* [Custom Display logic](examples/IPython%20Kernel/Custom%20Display%20Logic.ipynb)\n",
    "* [Customizing IPython - a condensed version](exercises/Customization/Condensed.ipynb)\n",
    "* [Running a Secure Public Notebook Server](examples/Notebook/Running%20the%20Notebook%20Server.ipynb#Securing-the-notebook-server)\n",
    "* [How Jupyter/IPython works](examples/Notebook/Multiple%20Languages%2C%20Frontends.ipynb) to run code in different languages."
   ]
  },
  {
   "cell_type": "markdown",
   "metadata": {},
   "source": [
    "Get this tutorial:\n",
    "\n",
    "    git clone https://github.com/ipython/ipython-in-depth\n",
    "\n",
    "Install IPython and Jupyter:\n",
    "\n",
    "with [conda](https://www.continuum.io/downloads):\n",
    "\n",
    "    conda install ipython jupyter\n",
    "\n",
    "with pip:\n",
    "\n",
    "    # first, upgrade pip!\n",
    "    pip install --upgrade pip\n",
    "    pip install --upgrade ipython jupyter\n",
    "\n",
    "Start the notebook in the tutorial directory:\n",
    "\n",
    "    cd ipython-in-depth\n",
    "    jupyter notebook"
   ]
  },
  {
   "cell_type": "markdown",
   "metadata": {},
   "source": [
    "There are a lot more detailed notebooks in this same directory that cover other topics, but we can not cover all in a 3-hour tutorial. We encourage you to explore them and practice on your own."
   ]
  }
 ],
 "metadata": {
  "kernelspec": {
   "display_name": "Python 3",
   "language": "python",
   "name": "python3"
  },
  "language_info": {
   "codemirror_mode": {
    "name": "ipython",
    "version": 3
   },
   "file_extension": ".py",
   "mimetype": "text/x-python",
   "name": "python",
   "nbconvert_exporter": "python",
   "pygments_lexer": "ipython3",
   "version": "3.6.11"
  }
 },
 "nbformat": 4,
 "nbformat_minor": 1
}
