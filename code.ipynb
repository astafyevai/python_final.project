{
 "cells": [
  {
   "cell_type": "markdown",
   "metadata": {},
   "source": [
    "# IPython & Jupyter: a PyCon 2017 tutorial"
   ]
  },
  {
   "cell_type": "code",
   "execution_count": 53,
   "metadata": {},
   "outputs": [
    {
     "name": "stdout",
     "output_type": "stream",
     "text": [
      "Requirement already satisfied: pymystem3 in /srv/conda/envs/notebook/lib/python3.6/site-packages (0.2.0)\r\n",
      "Requirement already satisfied: requests in /srv/conda/envs/notebook/lib/python3.6/site-packages (from pymystem3) (2.24.0)\r\n",
      "Requirement already satisfied: certifi>=2017.4.17 in /srv/conda/envs/notebook/lib/python3.6/site-packages (from requests->pymystem3) (2020.6.20)\r\n",
      "Requirement already satisfied: urllib3!=1.25.0,!=1.25.1,<1.26,>=1.21.1 in /srv/conda/envs/notebook/lib/python3.6/site-packages (from requests->pymystem3) (1.25.10)\r\n",
      "Requirement already satisfied: chardet<4,>=3.0.2 in /srv/conda/envs/notebook/lib/python3.6/site-packages (from requests->pymystem3) (3.0.4)\r\n",
      "Requirement already satisfied: idna<3,>=2.5 in /srv/conda/envs/notebook/lib/python3.6/site-packages (from requests->pymystem3) (2.10)\r\n"
     ]
    }
   ],
   "source": [
    "#! pip install pymystem3\n",
    "\n",
    "from pymystem3 import Mystem\n",
    "import pandas as pd"
   ]
  },
  {
   "cell_type": "code",
   "execution_count": 54,
   "metadata": {},
   "outputs": [],
   "source": [
    "url = 'https://raw.githubusercontent.com/astafyevai/python_final.project/main/masterimargarita.txt'"
   ]
  },
  {
   "cell_type": "code",
   "execution_count": 55,
   "metadata": {},
   "outputs": [],
   "source": [
    "import requests\n",
    "\n",
    "response = requests.get(url)\n",
    "text = response.text"
   ]
  },
  {
   "cell_type": "code",
   "execution_count": 56,
   "metadata": {},
   "outputs": [
    {
     "data": {
      "text/plain": [
       "'Мастер и Маргарита\\nМихаил Афанасиевич Булгаков\\n\\nРусская классика\\n\\n  \\xa0 Прекрасно оформленное подарочное издание в шелковом переплете с трехсторонним окрашенным обрезом. Обложка книги украшена аппликацией. В книге представлено бессмертное творение русской литературы XX века. Легендарная фантасмагория \"Мастер и Маргарита\"... Произведения Михаила Булгакова - многоплановые, неоднозначные, раскрывающие разные грани его яркого таланта! Глубоко философский роман М.Булгакова иллюстрациями П.Оринянского не исчерпан, но и не умален. Иллюстрации обогатили книгу прекрасными портретами-образами, сделали интересней и для чтения, и для зрительского восприятия и, пожалуй, самое главное, - открыли новое духовное пространство. Художник вслед за Булгаковым ищет путь не к логике, а к интуиции читателя, что-то нашептывает ему, подсказывает, намекает, помогает ему ощутить сладость самостоятельных читательских открытий. Силовые линии иллюстраций П.Оринянского обращены не внутрь листа, а рвутся наружу, на волю'"
      ]
     },
     "execution_count": 56,
     "metadata": {},
     "output_type": "execute_result"
    }
   ],
   "source": [
    "data[:1000]"
   ]
  },
  {
   "cell_type": "code",
   "execution_count": 58,
   "metadata": {},
   "outputs": [],
   "source": [
    "m = Mystem()"
   ]
  },
  {
   "cell_type": "code",
   "execution_count": 59,
   "metadata": {},
   "outputs": [
    {
     "data": {
      "text/plain": [
       "['булгаков',\n",
       " '\\n',\n",
       " '\\n',\n",
       " 'русский',\n",
       " ' ',\n",
       " 'классика',\n",
       " '\\n',\n",
       " '\\n',\n",
       " '  \\xa0 ',\n",
       " 'прекрасно']"
      ]
     },
     "execution_count": 59,
     "metadata": {},
     "output_type": "execute_result"
    }
   ],
   "source": [
    "lemmas = m.lemmatize(text)\n",
    "lemmas[10:20]"
   ]
  },
  {
   "cell_type": "code",
   "execution_count": 60,
   "metadata": {},
   "outputs": [],
   "source": [
    "p = ([x for x in lemmas if x.isalpha()])"
   ]
  },
  {
   "cell_type": "code",
   "execution_count": 61,
   "metadata": {},
   "outputs": [
    {
     "data": {
      "text/plain": [
       "112106"
      ]
     },
     "execution_count": 61,
     "metadata": {},
     "output_type": "execute_result"
    }
   ],
   "source": [
    "len(p)"
   ]
  },
  {
   "cell_type": "code",
   "execution_count": 62,
   "metadata": {},
   "outputs": [
    {
     "data": {
      "text/plain": [
       "10418"
      ]
     },
     "execution_count": 62,
     "metadata": {},
     "output_type": "execute_result"
    }
   ],
   "source": [
    "pd.Series(p).nunique()"
   ]
  },
  {
   "cell_type": "code",
   "execution_count": 63,
   "metadata": {
    "scrolled": true
   },
   "outputs": [
    {
     "data": {
      "text/plain": [
       "и              5025\n",
       "в              3651\n",
       "он             2167\n",
       "не             2031\n",
       "на             2005\n",
       "что            1876\n",
       "я              1391\n",
       "быть           1388\n",
       "с              1306\n",
       "а               977\n",
       "она             886\n",
       "как             841\n",
       "это             800\n",
       "то              784\n",
       "вы              761\n",
       "этот            760\n",
       "но              714\n",
       "к               701\n",
       "маргарита       624\n",
       "же              595\n",
       "у               528\n",
       "из              528\n",
       "по              478\n",
       "сказать         470\n",
       "за              469\n",
       "ты              426\n",
       "тот             423\n",
       "так             411\n",
       "свой            411\n",
       "от              382\n",
       "один            374\n",
       "рука            368\n",
       "все             366\n",
       "они             361\n",
       "который         355\n",
       "весь            355\n",
       "иван            354\n",
       "человек         349\n",
       "глаз            346\n",
       "отвечать        341\n",
       "о               327\n",
       "тут             306\n",
       "да              306\n",
       "себя            302\n",
       "бы              300\n",
       "его             298\n",
       "становиться     285\n",
       "только          281\n",
       "уже             278\n",
       "нет             274\n",
       "dtype: int64"
      ]
     },
     "execution_count": 63,
     "metadata": {},
     "output_type": "execute_result"
    }
   ],
   "source": [
    "pd.Series(p).value_counts().head(50)"
   ]
  },
  {
   "cell_type": "code",
   "execution_count": 72,
   "metadata": {},
   "outputs": [],
   "source": [
    "ana = m.analyze(','.join(list(set(p))))\n"
   ]
  },
  {
   "cell_type": "code",
   "execution_count": 87,
   "metadata": {},
   "outputs": [
    {
     "name": "stdout",
     "output_type": "stream",
     "text": [
      "14255\n"
     ]
    }
   ],
   "source": [
    "#i = 0\n",
    "#for w in ana:\n",
    "#    i += 1\n",
    "#    if w['text'] == 'воланд':\n",
    "#        print(i)"
   ]
  },
  {
   "cell_type": "code",
   "execution_count": 88,
   "metadata": {},
   "outputs": [
    {
     "data": {
      "text/plain": [
       "{'analysis': [{'lex': 'воланд',\n",
       "   'wt': 0.7324094467,\n",
       "   'gr': 'S,фам,муж,од=им,ед'}],\n",
       " 'text': 'воланд'}"
      ]
     },
     "execution_count": 88,
     "metadata": {},
     "output_type": "execute_result"
    }
   ],
   "source": [
    "# ana[14254]"
   ]
  },
  {
   "cell_type": "code",
   "execution_count": 81,
   "metadata": {},
   "outputs": [],
   "source": [
    "words_include = []\n",
    "for word in ana:\n",
    "    if ('analysis' in word) and word['analysis']:\n",
    "        gr = word['analysis'][0]['gr']\n",
    "        pos = gr.split('=')[0].split(',')[0]\n",
    "        if pos == 'S' and 'имя' not in gr and 'фам' not in gr and 'отч' not in gr and 'сокр' not in gr:\n",
    "            words_include.append(word['text'])"
   ]
  },
  {
   "cell_type": "code",
   "execution_count": 76,
   "metadata": {},
   "outputs": [],
   "source": [
    "#p_new = set(p) - set(words_exclude)"
   ]
  },
  {
   "cell_type": "code",
   "execution_count": 82,
   "metadata": {},
   "outputs": [],
   "source": [
    "p_new = [x for x in p if x in words_include]"
   ]
  },
  {
   "cell_type": "code",
   "execution_count": 83,
   "metadata": {},
   "outputs": [
    {
     "data": {
      "text/plain": [
       "рука          368\n",
       "человек       349\n",
       "глаз          346\n",
       "прокуратор    267\n",
       "мочь          249\n",
       "голова        246\n",
       "кот           233\n",
       "лицо          230\n",
       "время         214\n",
       "голос         184\n",
       "дело          167\n",
       "мастер        167\n",
       "слово         159\n",
       "гость         155\n",
       "квартира      152\n",
       "dtype: int64"
      ]
     },
     "execution_count": 83,
     "metadata": {},
     "output_type": "execute_result"
    }
   ],
   "source": [
    "pd.Series(p_new).value_counts().head(15)"
   ]
  },
  {
   "cell_type": "code",
   "execution_count": 84,
   "metadata": {},
   "outputs": [],
   "source": [
    "names_include = []\n",
    "for word in ana:\n",
    "    if ('analysis' in word) and word['analysis']:\n",
    "        gr = word['analysis'][0]['gr']\n",
    "        pos = gr.split('=')[0].split(',')[0]\n",
    "        if pos == 'S' and ('имя' in gr or 'фам' in gr):\n",
    "            names_include.append(word['text'])"
   ]
  },
  {
   "cell_type": "code",
   "execution_count": 85,
   "metadata": {},
   "outputs": [],
   "source": [
    "names = [x for x in p if x in names_include]"
   ]
  },
  {
   "cell_type": "code",
   "execution_count": 86,
   "metadata": {},
   "outputs": [
    {
     "data": {
      "text/plain": [
       "маргарита    624\n",
       "иван         354\n",
       "воланд       266\n",
       "коровьев     227\n",
       "пилат        196\n",
       "азазелло     152\n",
       "берлиоз      147\n",
       "никанор      134\n",
       "варенуха     103\n",
       "степа        101\n",
       "левий         75\n",
       "иешуа         58\n",
       "наташа        53\n",
       "аннушка       52\n",
       "бездомный     46\n",
       "dtype: int64"
      ]
     },
     "execution_count": 86,
     "metadata": {},
     "output_type": "execute_result"
    }
   ],
   "source": [
    "pd.Series(names).value_counts().head(15)"
   ]
  },
  {
   "cell_type": "code",
   "execution_count": 89,
   "metadata": {},
   "outputs": [
    {
     "data": {
      "text/plain": [
       "кудряш      84\n",
       "явление     82\n",
       "сударь      59\n",
       "маменька    50\n",
       "человек     49\n",
       "мочь        40\n",
       "дело        37\n",
       "грех        34\n",
       "бог         34\n",
       "глаз        28\n",
       "дом         27\n",
       "народ       25\n",
       "муж         24\n",
       "рука        24\n",
       "сердце      24\n",
       "dtype: int64"
      ]
     },
     "execution_count": 89,
     "metadata": {},
     "output_type": "execute_result"
    }
   ],
   "source": [
    "url = 'https://raw.githubusercontent.com/astafyevai/python_final.project/main/groza.txt'\n",
    "response = requests.get(url)\n",
    "text = response.text\n",
    "m = Mystem()\n",
    "lemmas = m.lemmatize(text)\n",
    "p = ([x for x in lemmas if x.isalpha()])\n",
    "ana = m.analyze(','.join(list(set(p))))\n",
    "words_include = []\n",
    "for word in ana:\n",
    "    if ('analysis' in word) and word['analysis']:\n",
    "        gr = word['analysis'][0]['gr']\n",
    "        pos = gr.split('=')[0].split(',')[0]\n",
    "        if pos == 'S' and 'имя' not in gr and 'фам' not in gr and 'отч' not in gr and 'сокр' not in gr:\n",
    "            words_include.append(word['text'])\n",
    "p_new = [x for x in p if x in words_include]\n",
    "pd.Series(p_new).value_counts().head(15)"
   ]
  },
  {
   "cell_type": "code",
   "execution_count": 91,
   "metadata": {},
   "outputs": [
    {
     "data": {
      "text/plain": [
       "катерина    183\n",
       "борис       149\n",
       "варвара     142\n",
       "кабанов     122\n",
       "кабанова    108\n",
       "кулигин      95\n",
       "глаша        36\n",
       "феклуша      27\n",
       "катя         20\n",
       "шапкин       15\n",
       "тихон        10\n",
       "савел        10\n",
       "тиша          8\n",
       "марфа         7\n",
       "варя          7\n",
       "dtype: int64"
      ]
     },
     "execution_count": 91,
     "metadata": {},
     "output_type": "execute_result"
    }
   ],
   "source": [
    "names_include = []\n",
    "for word in ana:\n",
    "    if ('analysis' in word) and word['analysis']:\n",
    "        gr = word['analysis'][0]['gr']\n",
    "        pos = gr.split('=')[0].split(',')[0]\n",
    "        if pos == 'S' and ('имя' in gr or 'фам' in gr):\n",
    "            names_include.append(word['text'])\n",
    "names = [x for x in p if x in names_include]\n",
    "pd.Series(names).value_counts().head(15)"
   ]
  },
  {
   "cell_type": "code",
   "execution_count": 92,
   "metadata": {},
   "outputs": [
    {
     "data": {
      "text/plain": [
       "старец     34\n",
       "город      20\n",
       "жизнь      18\n",
       "вера       17\n",
       "дом        17\n",
       "человек    14\n",
       "котик      14\n",
       "день       13\n",
       "гость      13\n",
       "клуб       13\n",
       "рука       12\n",
       "время      12\n",
       "вечер      12\n",
       "сад        12\n",
       "час        11\n",
       "dtype: int64"
      ]
     },
     "execution_count": 92,
     "metadata": {},
     "output_type": "execute_result"
    }
   ],
   "source": [
    "url = 'https://raw.githubusercontent.com/astafyevai/python_final.project/main/ionych.txt'\n",
    "response = requests.get(url)\n",
    "text = response.text\n",
    "m = Mystem()\n",
    "lemmas = m.lemmatize(text)\n",
    "p = ([x for x in lemmas if x.isalpha()])\n",
    "ana = m.analyze(','.join(list(set(p))))\n",
    "words_include = []\n",
    "for word in ana:\n",
    "    if ('analysis' in word) and word['analysis']:\n",
    "        gr = word['analysis'][0]['gr']\n",
    "        pos = gr.split('=')[0].split(',')[0]\n",
    "        if pos == 'S' and 'имя' not in gr and 'фам' not in gr and 'отч' not in gr and 'сокр' not in gr:\n",
    "            words_include.append(word['text'])\n",
    "p_new = [x for x in p if x in words_include]\n",
    "pd.Series(p_new).value_counts().head(15)"
   ]
  },
  {
   "cell_type": "code",
   "execution_count": 101,
   "metadata": {},
   "outputs": [
    {
     "data": {
      "text/plain": [
       "екатерина      26\n",
       "иван           22\n",
       "дмитрий         8\n",
       "пантелеймон     7\n",
       "алексей         2\n",
       "ия              1\n",
       "отелло          1\n",
       "павлуша         1\n",
       "верочка         1\n",
       "денис           1\n",
       "dtype: int64"
      ]
     },
     "execution_count": 101,
     "metadata": {},
     "output_type": "execute_result"
    }
   ],
   "source": [
    "names_include = []\n",
    "for word in ana:\n",
    "    if ('analysis' in word) and word['analysis']:\n",
    "        gr = word['analysis'][0]['gr']\n",
    "        pos = gr.split('=')[0].split(',')[0]\n",
    "        if pos == 'S' and ('имя' in gr):\n",
    "            names_include.append(word['text'])\n",
    "names = [x for x in p if x in names_include]\n",
    "pd.Series(names).value_counts().head(15)"
   ]
  },
  {
   "cell_type": "code",
   "execution_count": 102,
   "metadata": {},
   "outputs": [
    {
     "data": {
      "text/plain": [
       "жизнь     97\n",
       "душа      80\n",
       "ночь      76\n",
       "сердце    73\n",
       "друг      64\n",
       "день      61\n",
       "небо      49\n",
       "звезда    49\n",
       "мир       48\n",
       "огонь     46\n",
       "рука      44\n",
       "мочь      44\n",
       "звук      41\n",
       "сон       41\n",
       "слово     40\n",
       "dtype: int64"
      ]
     },
     "execution_count": 102,
     "metadata": {},
     "output_type": "execute_result"
    }
   ],
   "source": [
    "url = 'https://raw.githubusercontent.com/astafyevai/python_final.project/main/fet.txt'\n",
    "response = requests.get(url)\n",
    "text = response.text\n",
    "m = Mystem()\n",
    "lemmas = m.lemmatize(text)\n",
    "p = ([x for x in lemmas if x.isalpha()])\n",
    "ana = m.analyze(','.join(list(set(p))))\n",
    "words_include = []\n",
    "for word in ana:\n",
    "    if ('analysis' in word) and word['analysis']:\n",
    "        gr = word['analysis'][0]['gr']\n",
    "        pos = gr.split('=')[0].split(',')[0]\n",
    "        if pos == 'S' and 'имя' not in gr and 'фам' not in gr and 'отч' not in gr and 'сокр' not in gr:\n",
    "            words_include.append(word['text'])\n",
    "p_new = [x for x in p if x in words_include]\n",
    "pd.Series(p_new).value_counts().head(15)"
   ]
  },
  {
   "cell_type": "code",
   "execution_count": 105,
   "metadata": {},
   "outputs": [
    {
     "data": {
      "text/plain": [
       "мария       12\n",
       "афанасий     8\n",
       "диана        7\n",
       "офелия       5\n",
       "сергей       4\n",
       "зараня       4\n",
       "аполлон      4\n",
       "венера       3\n",
       "эндимион     3\n",
       "татьяна      3\n",
       "дарья        3\n",
       "долли        3\n",
       "калиф        2\n",
       "серафим      2\n",
       "телемак      2\n",
       "dtype: int64"
      ]
     },
     "execution_count": 105,
     "metadata": {},
     "output_type": "execute_result"
    }
   ],
   "source": [
    "names_include = []\n",
    "for word in ana:\n",
    "    if ('analysis' in word) and word['analysis']:\n",
    "        gr = word['analysis'][0]['gr']\n",
    "        pos = gr.split('=')[0].split(',')[0]\n",
    "        if pos == 'S' and ('имя' in gr):\n",
    "            names_include.append(word['text'])\n",
    "names = [x for x in p if x in names_include]\n",
    "pd.Series(names).value_counts().head(15)"
   ]
  },
  {
   "cell_type": "code",
   "execution_count": 106,
   "metadata": {},
   "outputs": [
    {
     "data": {
      "text/plain": [
       "день      151\n",
       "душа      135\n",
       "небо      119\n",
       "мир       116\n",
       "жизнь     114\n",
       "земля      88\n",
       "сердце     82\n",
       "любовь     80\n",
       "бог        76\n",
       "друг       75\n",
       "тень       74\n",
       "сон        73\n",
       "свет       69\n",
       "ночь       65\n",
       "луч        62\n",
       "dtype: int64"
      ]
     },
     "execution_count": 106,
     "metadata": {},
     "output_type": "execute_result"
    }
   ],
   "source": [
    "url = 'https://raw.githubusercontent.com/astafyevai/python_final.project/main/tutchev.txt'\n",
    "response = requests.get(url)\n",
    "text = response.text\n",
    "m = Mystem()\n",
    "lemmas = m.lemmatize(text)\n",
    "p = ([x for x in lemmas if x.isalpha()])\n",
    "ana = m.analyze(','.join(list(set(p))))\n",
    "words_include = []\n",
    "for word in ana:\n",
    "    if ('analysis' in word) and word['analysis']:\n",
    "        gr = word['analysis'][0]['gr']\n",
    "        pos = gr.split('=')[0].split(',')[0]\n",
    "        if pos == 'S' and 'имя' not in gr and 'фам' not in gr and 'отч' not in gr and 'сокр' not in gr:\n",
    "            words_include.append(word['text'])\n",
    "p_new = [x for x in p if x in words_include]\n",
    "pd.Series(p_new).value_counts().head(15)"
   ]
  },
  {
   "cell_type": "code",
   "execution_count": 107,
   "metadata": {},
   "outputs": [
    {
     "data": {
      "text/plain": [
       "гектор          8\n",
       "урания          7\n",
       "ниса            6\n",
       "персей          4\n",
       "наполеон        4\n",
       "микеланджело    4\n",
       "андрей          3\n",
       "петр            3\n",
       "рая             3\n",
       "ной             3\n",
       "ипполит         3\n",
       "серафима        3\n",
       "гюго            2\n",
       "злата           2\n",
       "беранже         2\n",
       "dtype: int64"
      ]
     },
     "execution_count": 107,
     "metadata": {},
     "output_type": "execute_result"
    }
   ],
   "source": [
    "names_include = []\n",
    "for word in ana:\n",
    "    if ('analysis' in word) and word['analysis']:\n",
    "        gr = word['analysis'][0]['gr']\n",
    "        pos = gr.split('=')[0].split(',')[0]\n",
    "        if pos == 'S' and ('имя' in gr):\n",
    "            names_include.append(word['text'])\n",
    "names = [x for x in p if x in names_include]\n",
    "pd.Series(names).value_counts().head(15)"
   ]
  },
  {
   "cell_type": "code",
   "execution_count": 108,
   "metadata": {},
   "outputs": [
    {
     "data": {
      "text/plain": [
       "жизнь      450\n",
       "мочь       373\n",
       "глаз       373\n",
       "рука       367\n",
       "дело       305\n",
       "голова     287\n",
       "день       279\n",
       "лицо       269\n",
       "человек    260\n",
       "дом        222\n",
       "взгляд     197\n",
       "год        190\n",
       "любовь     177\n",
       "сердце     174\n",
       "письмо     172\n",
       "dtype: int64"
      ]
     },
     "execution_count": 108,
     "metadata": {},
     "output_type": "execute_result"
    }
   ],
   "source": [
    "url = 'https://raw.githubusercontent.com/astafyevai/python_final.project/main/oblomov.txt'\n",
    "response = requests.get(url)\n",
    "text = response.text\n",
    "m = Mystem()\n",
    "lemmas = m.lemmatize(text)\n",
    "p = ([x for x in lemmas if x.isalpha()])\n",
    "ana = m.analyze(','.join(list(set(p))))\n",
    "words_include = []\n",
    "for word in ana:\n",
    "    if ('analysis' in word) and word['analysis']:\n",
    "        gr = word['analysis'][0]['gr']\n",
    "        pos = gr.split('=')[0].split(',')[0]\n",
    "        if pos == 'S' and 'имя' not in gr and 'фам' not in gr and 'отч' not in gr and 'сокр' not in gr:\n",
    "            words_include.append(word['text'])\n",
    "p_new = [x for x in p if x in words_include]\n",
    "pd.Series(p_new).value_counts().head(15)"
   ]
  },
  {
   "cell_type": "code",
   "execution_count": 110,
   "metadata": {},
   "outputs": [
    {
     "data": {
      "text/plain": [
       "обломов      1192\n",
       "захар         599\n",
       "ольга         453\n",
       "илья          392\n",
       "штольц        265\n",
       "тарантьев     182\n",
       "андрей        151\n",
       "анисья        119\n",
       "иван           97\n",
       "агафья         67\n",
       "алексеев       65\n",
       "михей          33\n",
       "катя           33\n",
       "андрюша        29\n",
       "сонечка        24\n",
       "dtype: int64"
      ]
     },
     "execution_count": 110,
     "metadata": {},
     "output_type": "execute_result"
    }
   ],
   "source": [
    "names_include = []\n",
    "for word in ana:\n",
    "    if ('analysis' in word) and word['analysis']:\n",
    "        gr = word['analysis'][0]['gr']\n",
    "        pos = gr.split('=')[0].split(',')[0]\n",
    "        if pos == 'S' and ('имя' in gr or 'фам' in gr):\n",
    "            names_include.append(word['text'])\n",
    "names = [x for x in p if x in names_include]\n",
    "pd.Series(names).value_counts().head(15)"
   ]
  },
  {
   "cell_type": "code",
   "execution_count": 111,
   "metadata": {},
   "outputs": [
    {
     "data": {
      "text/plain": [
       "человек    200\n",
       "рука       157\n",
       "глаз       115\n",
       "лицо       105\n",
       "отец       103\n",
       "голова     101\n",
       "день        90\n",
       "год         89\n",
       "слово       88\n",
       "время       88\n",
       "брат        82\n",
       "дело        74\n",
       "сын         72\n",
       "дом         56\n",
       "комната     56\n",
       "dtype: int64"
      ]
     },
     "execution_count": 111,
     "metadata": {},
     "output_type": "execute_result"
    }
   ],
   "source": [
    "url = 'https://raw.githubusercontent.com/astafyevai/python_final.project/main/otcydeti.txt'\n",
    "response = requests.get(url)\n",
    "text = response.text\n",
    "m = Mystem()\n",
    "lemmas = m.lemmatize(text)\n",
    "p = ([x for x in lemmas if x.isalpha()])\n",
    "ana = m.analyze(','.join(list(set(p))))\n",
    "words_include = []\n",
    "for word in ana:\n",
    "    if ('analysis' in word) and word['analysis']:\n",
    "        gr = word['analysis'][0]['gr']\n",
    "        pos = gr.split('=')[0].split(',')[0]\n",
    "        if pos == 'S' and 'имя' not in gr and 'фам' not in gr and 'отч' not in gr and 'сокр' not in gr:\n",
    "            words_include.append(word['text'])\n",
    "p_new = [x for x in p if x in words_include]\n",
    "pd.Series(p_new).value_counts().head(15)"
   ]
  },
  {
   "cell_type": "code",
   "execution_count": 112,
   "metadata": {},
   "outputs": [
    {
     "data": {
      "text/plain": [
       "базаров     506\n",
       "аркадий     390\n",
       "павел       196\n",
       "николай     183\n",
       "анна        118\n",
       "василий     113\n",
       "катя         95\n",
       "евгений      92\n",
       "одинцов      78\n",
       "фенечка      74\n",
       "ситников     40\n",
       "арина        37\n",
       "петр         37\n",
       "одинцова     25\n",
       "митя         18\n",
       "dtype: int64"
      ]
     },
     "execution_count": 112,
     "metadata": {},
     "output_type": "execute_result"
    }
   ],
   "source": [
    "names_include = []\n",
    "for word in ana:\n",
    "    if ('analysis' in word) and word['analysis']:\n",
    "        gr = word['analysis'][0]['gr']\n",
    "        pos = gr.split('=')[0].split(',')[0]\n",
    "        if pos == 'S' and ('имя' in gr or 'фам' in gr):\n",
    "            names_include.append(word['text'])\n",
    "names = [x for x in p if x in names_include]\n",
    "pd.Series(names).value_counts().head(15)"
   ]
  },
  {
   "cell_type": "code",
   "execution_count": 117,
   "metadata": {},
   "outputs": [
    {
     "data": {
      "text/plain": [
       "мочь            751\n",
       "раскольников    726\n",
       "человек         502\n",
       "рука            369\n",
       "дело            363\n",
       "раз             328\n",
       "минута          278\n",
       "время           262\n",
       "слово           237\n",
       "лицо            233\n",
       "глаз            230\n",
       "дверь           224\n",
       "голова          211\n",
       "комната         211\n",
       "день            203\n",
       "dtype: int64"
      ]
     },
     "execution_count": 117,
     "metadata": {},
     "output_type": "execute_result"
    }
   ],
   "source": [
    "url = 'https://raw.githubusercontent.com/astafyevai/python_final.project/main/prestuplenie.txt'\n",
    "response = requests.get(url)\n",
    "text = response.text\n",
    "m = Mystem()\n",
    "lemmas = m.lemmatize(text)\n",
    "p = ([x for x in lemmas if x.isalpha()])\n",
    "ana = m.analyze(','.join(list(set(p))))\n",
    "words_include = []\n",
    "for word in ana:\n",
    "    if ('analysis' in word) and word['analysis']:\n",
    "        gr = word['analysis'][0]['gr']\n",
    "        pos = gr.split('=')[0].split(',')[0]\n",
    "        if pos == 'S' and 'имя' not in gr and 'фам' not in gr and 'отч' not in gr and 'сокр' not in gr:\n",
    "            words_include.append(word['text'])\n",
    "p_new = [x for x in p if x in words_include]\n",
    "pd.Series(p_new).value_counts().head(15)"
   ]
  },
  {
   "cell_type": "code",
   "execution_count": 114,
   "metadata": {},
   "outputs": [
    {
     "name": "stdout",
     "output_type": "stream",
     "text": [
      "21261\n"
     ]
    }
   ],
   "source": [
    "#i = 0\n",
    "#for w in ana:\n",
    "#    i += 1\n",
    "#    if w['text'] == 'раскольников':\n",
    "#        print(i)"
   ]
  },
  {
   "cell_type": "code",
   "execution_count": 115,
   "metadata": {},
   "outputs": [
    {
     "data": {
      "text/plain": [
       "{'analysis': [{'lex': 'раскольник',\n",
       "   'wt': 0.1463848409,\n",
       "   'gr': 'S,муж,од=(вин,мн|род,мн)'}],\n",
       " 'text': 'раскольников'}"
      ]
     },
     "execution_count": 115,
     "metadata": {},
     "output_type": "execute_result"
    }
   ],
   "source": [
    "#ana[21260]"
   ]
  },
  {
   "cell_type": "code",
   "execution_count": 118,
   "metadata": {},
   "outputs": [
    {
     "data": {
      "text/plain": [
       "соня            379\n",
       "разумихин       350\n",
       "катерина        223\n",
       "дуня            209\n",
       "свидригайлов    207\n",
       "порфирий        206\n",
       "петр            179\n",
       "пульхерия       128\n",
       "авдотья         118\n",
       "лужин           114\n",
       "дунечка         109\n",
       "родя            106\n",
       "родион          102\n",
       "зосимов          90\n",
       "марфа            83\n",
       "dtype: int64"
      ]
     },
     "execution_count": 118,
     "metadata": {},
     "output_type": "execute_result"
    }
   ],
   "source": [
    "names_include = []\n",
    "for word in ana:\n",
    "    if ('analysis' in word) and word['analysis']:\n",
    "        gr = word['analysis'][0]['gr']\n",
    "        pos = gr.split('=')[0].split(',')[0]\n",
    "        if pos == 'S' and ('имя' in gr or 'фам' in gr):\n",
    "            names_include.append(word['text'])\n",
    "names = [x for x in p if x in names_include]\n",
    "pd.Series(names).value_counts().head(15)"
   ]
  },
  {
   "cell_type": "code",
   "execution_count": 119,
   "metadata": {},
   "outputs": [
    {
     "data": {
      "text/plain": [
       "строка     1434\n",
       "князь      1158\n",
       "слово       696\n",
       "изда        564\n",
       "мочь        488\n",
       "человек     469\n",
       "лицо        464\n",
       "рука        395\n",
       "ростов      383\n",
       "глаз        325\n",
       "офицер      255\n",
       "княжна      252\n",
       "дело        251\n",
       "время       249\n",
       "солдат      239\n",
       "dtype: int64"
      ]
     },
     "execution_count": 119,
     "metadata": {},
     "output_type": "execute_result"
    }
   ],
   "source": [
    "url = 'https://raw.githubusercontent.com/astafyevai/python_final.project/main/voynamir.txt' #1 том\n",
    "response = requests.get(url)\n",
    "text = response.text\n",
    "m = Mystem()\n",
    "lemmas = m.lemmatize(text)\n",
    "p = ([x for x in lemmas if x.isalpha()])\n",
    "ana = m.analyze(','.join(list(set(p))))\n",
    "words_include = []\n",
    "for word in ana:\n",
    "    if ('analysis' in word) and word['analysis']:\n",
    "        gr = word['analysis'][0]['gr']\n",
    "        pos = gr.split('=')[0].split(',')[0]\n",
    "        if pos == 'S' and 'имя' not in gr and 'фам' not in gr and 'отч' not in gr and 'сокр' not in gr:\n",
    "            words_include.append(word['text'])\n",
    "p_new = [x for x in p if x in words_include]\n",
    "pd.Series(p_new).value_counts().head(15)"
   ]
  },
  {
   "cell_type": "code",
   "execution_count": 120,
   "metadata": {},
   "outputs": [
    {
     "data": {
      "text/plain": [
       "андрей        562\n",
       "пьер          487\n",
       "анна          311\n",
       "кутузов       241\n",
       "борис         226\n",
       "василий       180\n",
       "денисов       153\n",
       "николай       139\n",
       "багратион     138\n",
       "марья         137\n",
       "наташа        135\n",
       "болконский    133\n",
       "анатоль       120\n",
       "долохов       120\n",
       "бонапарт       94\n",
       "dtype: int64"
      ]
     },
     "execution_count": 120,
     "metadata": {},
     "output_type": "execute_result"
    }
   ],
   "source": [
    "names_include = []\n",
    "for word in ana:\n",
    "    if ('analysis' in word) and word['analysis']:\n",
    "        gr = word['analysis'][0]['gr']\n",
    "        pos = gr.split('=')[0].split(',')[0]\n",
    "        if pos == 'S' and ('имя' in gr or 'фам' in gr):\n",
    "            names_include.append(word['text'])\n",
    "names = [x for x in p if x in names_include]\n",
    "pd.Series(names).value_counts().head(15)"
   ]
  },
  {
   "cell_type": "markdown",
   "metadata": {},
   "source": [
    "There are a lot more detailed notebooks in this same directory that cover other topics, but we can not cover all in a 3-hour tutorial. We encourage you to explore them and practice on your own."
   ]
  }
 ],
 "metadata": {
  "kernelspec": {
   "display_name": "Python 3",
   "language": "python",
   "name": "python3"
  },
  "language_info": {
   "codemirror_mode": {
    "name": "ipython",
    "version": 3
   },
   "file_extension": ".py",
   "mimetype": "text/x-python",
   "name": "python",
   "nbconvert_exporter": "python",
   "pygments_lexer": "ipython3",
   "version": "3.6.11"
  }
 },
 "nbformat": 4,
 "nbformat_minor": 1
}
